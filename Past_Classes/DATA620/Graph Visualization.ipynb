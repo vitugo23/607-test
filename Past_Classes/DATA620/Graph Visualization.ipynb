{
 "cells": [
  {
   "cell_type": "code",
   "execution_count": 2,
   "id": "36e1e8a4-62e0-4039-94a5-1b0d4bfcaeb0",
   "metadata": {},
   "outputs": [],
   "source": [
    "import matplotlib.pyplot as plt\n",
    "import pandas as pd\n",
    "import networkx as nx\n",
    "import urllib"
   ]
  },
  {
   "cell_type": "code",
   "execution_count": 3,
   "id": "c733785b-ccea-4d23-8354-0cdae80c001d",
   "metadata": {},
   "outputs": [],
   "source": [
    "amazon_data = pd.read_csv(\"https://raw.githubusercontent.com/vitugo23/DATA607/main/DATA620/Amazon0302.txt\")"
   ]
  },
  {
   "cell_type": "code",
   "execution_count": 4,
   "id": "d8dd8a81-276e-4d76-91c4-a7d2d00b5f91",
   "metadata": {},
   "outputs": [
    {
     "data": {
      "text/html": [
       "<div>\n",
       "<style scoped>\n",
       "    .dataframe tbody tr th:only-of-type {\n",
       "        vertical-align: middle;\n",
       "    }\n",
       "\n",
       "    .dataframe tbody tr th {\n",
       "        vertical-align: top;\n",
       "    }\n",
       "\n",
       "    .dataframe thead th {\n",
       "        text-align: right;\n",
       "    }\n",
       "</style>\n",
       "<table border=\"1\" class=\"dataframe\">\n",
       "  <thead>\n",
       "    <tr style=\"text-align: right;\">\n",
       "      <th></th>\n",
       "      <th># Directed graph (each unordered pair of nodes is saved once): Amazon0302.txt</th>\n",
       "    </tr>\n",
       "  </thead>\n",
       "  <tbody>\n",
       "    <tr>\n",
       "      <th>0</th>\n",
       "      <td># Amazon product co-purchaisng network from Ma...</td>\n",
       "    </tr>\n",
       "    <tr>\n",
       "      <th>1</th>\n",
       "      <td># Nodes: 262111 Edges: 1234877</td>\n",
       "    </tr>\n",
       "    <tr>\n",
       "      <th>2</th>\n",
       "      <td># FromNodeId\\tToNodeId</td>\n",
       "    </tr>\n",
       "    <tr>\n",
       "      <th>3</th>\n",
       "      <td>0\\t1</td>\n",
       "    </tr>\n",
       "    <tr>\n",
       "      <th>4</th>\n",
       "      <td>0\\t2</td>\n",
       "    </tr>\n",
       "    <tr>\n",
       "      <th>...</th>\n",
       "      <td>...</td>\n",
       "    </tr>\n",
       "    <tr>\n",
       "      <th>1234875</th>\n",
       "      <td>262110\\t262099</td>\n",
       "    </tr>\n",
       "    <tr>\n",
       "      <th>1234876</th>\n",
       "      <td>262110\\t262100</td>\n",
       "    </tr>\n",
       "    <tr>\n",
       "      <th>1234877</th>\n",
       "      <td>262110\\t262101</td>\n",
       "    </tr>\n",
       "    <tr>\n",
       "      <th>1234878</th>\n",
       "      <td>262110\\t262106</td>\n",
       "    </tr>\n",
       "    <tr>\n",
       "      <th>1234879</th>\n",
       "      <td>262110\\t262107</td>\n",
       "    </tr>\n",
       "  </tbody>\n",
       "</table>\n",
       "<p>1234880 rows × 1 columns</p>\n",
       "</div>"
      ],
      "text/plain": [
       "        # Directed graph (each unordered pair of nodes is saved once): Amazon0302.txt \n",
       "0        # Amazon product co-purchaisng network from Ma...                            \n",
       "1                           # Nodes: 262111 Edges: 1234877                            \n",
       "2                                   # FromNodeId\\tToNodeId                            \n",
       "3                                                     0\\t1                            \n",
       "4                                                     0\\t2                            \n",
       "...                                                    ...                            \n",
       "1234875                                     262110\\t262099                            \n",
       "1234876                                     262110\\t262100                            \n",
       "1234877                                     262110\\t262101                            \n",
       "1234878                                     262110\\t262106                            \n",
       "1234879                                     262110\\t262107                            \n",
       "\n",
       "[1234880 rows x 1 columns]"
      ]
     },
     "execution_count": 4,
     "metadata": {},
     "output_type": "execute_result"
    }
   ],
   "source": [
    "amazon_data"
   ]
  },
  {
   "cell_type": "code",
   "execution_count": 6,
   "id": "13cf3402-8093-4323-828c-055aaecd8316",
   "metadata": {},
   "outputs": [],
   "source": [
    "edges = pd.read_csv(\"https://raw.githubusercontent.com/vitugo23/DATA607/main/DATA620/Amazon0302.txt\", sep='\\t',skiprows=4, header= None, names=['FromNodeId','ToNodeId'])"
   ]
  },
  {
   "cell_type": "code",
   "execution_count": 7,
   "id": "357aec2d-645c-4a99-8304-8d8eb8fbf94b",
   "metadata": {},
   "outputs": [
    {
     "data": {
      "text/html": [
       "<div>\n",
       "<style scoped>\n",
       "    .dataframe tbody tr th:only-of-type {\n",
       "        vertical-align: middle;\n",
       "    }\n",
       "\n",
       "    .dataframe tbody tr th {\n",
       "        vertical-align: top;\n",
       "    }\n",
       "\n",
       "    .dataframe thead th {\n",
       "        text-align: right;\n",
       "    }\n",
       "</style>\n",
       "<table border=\"1\" class=\"dataframe\">\n",
       "  <thead>\n",
       "    <tr style=\"text-align: right;\">\n",
       "      <th></th>\n",
       "      <th>FromNodeId</th>\n",
       "      <th>ToNodeId</th>\n",
       "    </tr>\n",
       "  </thead>\n",
       "  <tbody>\n",
       "    <tr>\n",
       "      <th>0</th>\n",
       "      <td>0</td>\n",
       "      <td>1</td>\n",
       "    </tr>\n",
       "    <tr>\n",
       "      <th>1</th>\n",
       "      <td>0</td>\n",
       "      <td>2</td>\n",
       "    </tr>\n",
       "    <tr>\n",
       "      <th>2</th>\n",
       "      <td>0</td>\n",
       "      <td>3</td>\n",
       "    </tr>\n",
       "    <tr>\n",
       "      <th>3</th>\n",
       "      <td>0</td>\n",
       "      <td>4</td>\n",
       "    </tr>\n",
       "    <tr>\n",
       "      <th>4</th>\n",
       "      <td>0</td>\n",
       "      <td>5</td>\n",
       "    </tr>\n",
       "    <tr>\n",
       "      <th>...</th>\n",
       "      <td>...</td>\n",
       "      <td>...</td>\n",
       "    </tr>\n",
       "    <tr>\n",
       "      <th>1234872</th>\n",
       "      <td>262110</td>\n",
       "      <td>262099</td>\n",
       "    </tr>\n",
       "    <tr>\n",
       "      <th>1234873</th>\n",
       "      <td>262110</td>\n",
       "      <td>262100</td>\n",
       "    </tr>\n",
       "    <tr>\n",
       "      <th>1234874</th>\n",
       "      <td>262110</td>\n",
       "      <td>262101</td>\n",
       "    </tr>\n",
       "    <tr>\n",
       "      <th>1234875</th>\n",
       "      <td>262110</td>\n",
       "      <td>262106</td>\n",
       "    </tr>\n",
       "    <tr>\n",
       "      <th>1234876</th>\n",
       "      <td>262110</td>\n",
       "      <td>262107</td>\n",
       "    </tr>\n",
       "  </tbody>\n",
       "</table>\n",
       "<p>1234877 rows × 2 columns</p>\n",
       "</div>"
      ],
      "text/plain": [
       "         FromNodeId  ToNodeId\n",
       "0                 0         1\n",
       "1                 0         2\n",
       "2                 0         3\n",
       "3                 0         4\n",
       "4                 0         5\n",
       "...             ...       ...\n",
       "1234872      262110    262099\n",
       "1234873      262110    262100\n",
       "1234874      262110    262101\n",
       "1234875      262110    262106\n",
       "1234876      262110    262107\n",
       "\n",
       "[1234877 rows x 2 columns]"
      ]
     },
     "execution_count": 7,
     "metadata": {},
     "output_type": "execute_result"
    }
   ],
   "source": [
    "edges"
   ]
  },
  {
   "cell_type": "code",
   "execution_count": 9,
   "id": "e19e4395-01e9-4233-8cd7-3d662b1ead14",
   "metadata": {},
   "outputs": [],
   "source": [
    "G = nx.from_pandas_edgelist(edges,source='FromNodeId',target='ToNodeId',\n",
    "                            create_using=nx.DiGraph())\n",
    "num_nodes=G.number_of_nodes()\n",
    "num_edges =G.number_of_edges()\n",
    "avg_degree = sum(dict(G.degree()).values()) /num_nodes\n",
    "density=nx.density(G)"
   ]
  },
  {
   "cell_type": "code",
   "execution_count": 10,
   "id": "ebc529f5-4364-4af2-8106-4ad03cad6da0",
   "metadata": {},
   "outputs": [
    {
     "name": "stdout",
     "output_type": "stream",
     "text": [
      "Number of nodes: 262111\n",
      "Number of edges: 1234877\n",
      "Average degree: 9.42\n",
      "Density: 0.000018\n"
     ]
    }
   ],
   "source": [
    "print(f\"Number of nodes: {num_nodes}\")\n",
    "print(f\"Number of edges: {num_edges}\")\n",
    "print(f\"Average degree: {avg_degree:.2f}\")\n",
    "print(f\"Density: {density:.6f}\")\n"
   ]
  },
  {
   "cell_type": "code",
   "execution_count": 11,
   "id": "643fb783-2c04-4c3a-b943-5eba8aa11f31",
   "metadata": {},
   "outputs": [
    {
     "name": "stdout",
     "output_type": "stream",
     "text": [
      "Graph is not strongly connected, diameter cannot be calculated directly.\n"
     ]
    }
   ],
   "source": [
    "try:\n",
    "    diameter = nx.diameter(G)\n",
    "except nx.NetworkXError:\n",
    "    print(\"Graph is not strongly connected, diameter cannot be calculated directly.\")"
   ]
  },
  {
   "cell_type": "code",
   "execution_count": 13,
   "id": "4d5d46f9-be70-4f3b-a7dd-016fdcb66166",
   "metadata": {},
   "outputs": [
    {
     "data": {
      "text/html": [
       "<div>\n",
       "<style scoped>\n",
       "    .dataframe tbody tr th:only-of-type {\n",
       "        vertical-align: middle;\n",
       "    }\n",
       "\n",
       "    .dataframe tbody tr th {\n",
       "        vertical-align: top;\n",
       "    }\n",
       "\n",
       "    .dataframe thead th {\n",
       "        text-align: right;\n",
       "    }\n",
       "</style>\n",
       "<table border=\"1\" class=\"dataframe\">\n",
       "  <thead>\n",
       "    <tr style=\"text-align: right;\">\n",
       "      <th></th>\n",
       "      <th>Degree Centrality</th>\n",
       "    </tr>\n",
       "  </thead>\n",
       "  <tbody>\n",
       "    <tr>\n",
       "      <th>14949</th>\n",
       "      <td>0.001621</td>\n",
       "    </tr>\n",
       "    <tr>\n",
       "      <th>4429</th>\n",
       "      <td>0.001560</td>\n",
       "    </tr>\n",
       "    <tr>\n",
       "      <th>33</th>\n",
       "      <td>0.001396</td>\n",
       "    </tr>\n",
       "    <tr>\n",
       "      <th>10519</th>\n",
       "      <td>0.001293</td>\n",
       "    </tr>\n",
       "    <tr>\n",
       "      <th>12771</th>\n",
       "      <td>0.001278</td>\n",
       "    </tr>\n",
       "    <tr>\n",
       "      <th>8</th>\n",
       "      <td>0.001137</td>\n",
       "    </tr>\n",
       "    <tr>\n",
       "      <th>297</th>\n",
       "      <td>0.001068</td>\n",
       "    </tr>\n",
       "    <tr>\n",
       "      <th>481</th>\n",
       "      <td>0.001068</td>\n",
       "    </tr>\n",
       "    <tr>\n",
       "      <th>5737</th>\n",
       "      <td>0.001057</td>\n",
       "    </tr>\n",
       "    <tr>\n",
       "      <th>9106</th>\n",
       "      <td>0.000885</td>\n",
       "    </tr>\n",
       "  </tbody>\n",
       "</table>\n",
       "</div>"
      ],
      "text/plain": [
       "       Degree Centrality\n",
       "14949           0.001621\n",
       "4429            0.001560\n",
       "33              0.001396\n",
       "10519           0.001293\n",
       "12771           0.001278\n",
       "8               0.001137\n",
       "297             0.001068\n",
       "481             0.001068\n",
       "5737            0.001057\n",
       "9106            0.000885"
      ]
     },
     "execution_count": 13,
     "metadata": {},
     "output_type": "execute_result"
    }
   ],
   "source": [
    "degree_centrality = nx.degree_centrality(G)\n",
    "degree_centrality_df = pd.DataFrame({\n",
    "    'Degree Centrality': degree_centrality})\n",
    "degree_centrality_df.sort_values(by='Degree Centrality',\n",
    "                                 ascending=False).head(10)"
   ]
  },
  {
   "cell_type": "code",
   "execution_count": null,
   "id": "3ca19072-5bcf-4625-8976-fa39d5ce4337",
   "metadata": {},
   "outputs": [],
   "source": [
    "closeness_centrality = nx.closeness_centrality(G)\n",
    "betweenness_centrality=nx.betweenness_centrality(G)"
   ]
  },
  {
   "cell_type": "code",
   "execution_count": null,
   "id": "3f90b060-c3d7-440d-85ba-b465bb050a5d",
   "metadata": {},
   "outputs": [],
   "source": [
    "pos = nx.random_layout(G)\n",
    "\n",
    "plt.figure(figsize=(12,10))\n",
    "nx.draw_networkx_nodes(G, pos, node_size=10, node_color='blue',alpha=0.5)\n",
    "nx.draw_networkx_edges(G, pos, width=0.5, arrows= True, edge_color='gray', alpha=0.7)\n",
    "plt.title('Amazon Product Co-purchasing Network')\n",
    "plt.axis('off')\n",
    "plt.show()"
   ]
  },
  {
   "cell_type": "code",
   "execution_count": null,
   "id": "12244467-757e-44fb-abe5-c066e4834e9f",
   "metadata": {},
   "outputs": [],
   "source": []
  }
 ],
 "metadata": {
  "kernelspec": {
   "display_name": "Python 3 (ipykernel)",
   "language": "python",
   "name": "python3"
  },
  "language_info": {
   "codemirror_mode": {
    "name": "ipython",
    "version": 3
   },
   "file_extension": ".py",
   "mimetype": "text/x-python",
   "name": "python",
   "nbconvert_exporter": "python",
   "pygments_lexer": "ipython3",
   "version": "3.11.7"
  }
 },
 "nbformat": 4,
 "nbformat_minor": 5
}
