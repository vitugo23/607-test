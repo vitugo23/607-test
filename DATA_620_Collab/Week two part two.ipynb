{
 "cells": [
  {
   "cell_type": "markdown",
   "id": "2152aabd",
   "metadata": {},
   "source": [
    "# Week 2 Part 2 - Assignment Centrality Measures"
   ]
  },
  {
   "cell_type": "markdown",
   "id": "6ece937e-3ed2-4c1b-9b07-a5d0d3b354ed",
   "metadata": {},
   "source": [
    "                                                \n",
    "## DATA SCIENCE TEAM: Gabriel Campos, Victor Torres, Kossi Akplaka, Heleine Fouda                                                \n",
    "## DATA 620  \n",
    "## Prof: Alain Ledon.\n",
    "\n",
    "### Instructions\n",
    "Centrality measures can be used to predict (positive or negative) outcomes for a node.\n",
    "\n",
    "Your task in this week’s assignment is to identify an interesting set of network data that is available on the web (either through web scraping or web APIs) that could be used for analyzing and comparing centrality measures across nodes.  As an additional constraint, there should be at least one categorical variable available for each node (such as “Male” or “Female”; “Republican”, “Democrat,” or “Undecided”, etc.)\n",
    "\n",
    "In addition to identifying your data source, you should create a high level plan that describes how you would load the data for analysis, and describe a hypothetical outcome that could be predicted from comparing degree centrality across categorical groups. "
   ]
  },
  {
   "cell_type": "markdown",
   "id": "74720179",
   "metadata": {},
   "source": [
    "### Solution\n",
    "\n",
    "For this assignment, we will be using the dataset of the Amazon product co-purchasing network. Data is located on the snap.stanford webpage, the link for the data is: https://snap.stanford.edu/data/amazon0302.html. This dataset consists of 262111 nodes and 1234877 edges, some other dataset statistics are:\n",
    "Nodes in largest WCC\t262111 (1.000)\n",
    "Edges in largest WCC\t1234877 (1.000)\n",
    "Nodes in largest SCC\t241761 (0.922)\n",
    "Edges in largest SCC\t1131217 (0.916)\n",
    "Average clustering coefficient\t0.4198\n",
    "Number of triangles\t717719\n",
    "Fraction of closed triangles\t0.09339\n",
    "Diameter (longest shortest path)\t32\n",
    "90-percentile effective diameter\t11.\n",
    "\n",
    "The description of the data set is \"based on Customers Who Bought This Item Also Bought feature of the Amazon website. If a product i is frequently co-purchased with product j, the graph contains a directed edge from i to j.\"(Amazon 2003).\n",
    "Data is stored in a txt.gz file available for download to the public in the snap.stanford webpage. the data has two column values: FromNodeId and ToNodeId. We will be using FromNodeId (also can be called itemID) as a categorical value, since is representing a product or an item.                                  "
   ]
  },
  {
   "cell_type": "markdown",
   "id": "5a515154-7d28-42f0-b7fd-4062050ab89b",
   "metadata": {},
   "source": [
    "\n",
    "## High Level Plan\n",
    "\n",
    "First, we will get the txt.gz file and download it from the source page, extract the zip folder and then upload the file on GitHub for easy access and reproducibility. We will use Pandas library function pd.read_csv to load the file into a Jupyter notebook. From there we will use the networkX and Matplotlib packages for the analysis. \n",
    "After that, we will clean the data by removing the first 4 rows ad getting the edges, and to find if there is a relationship between \"FromNodeId\" to \"ToNodeId\" so it can be represented in a directed graph.\n",
    "We will compute the degree of centrality, the betweeness, and the closeness across categorical groups, centrality measures help identify the most important or influential nodes or products in the network. For instance, it can help determine products that are central to the network, which might be popular or highly influential in driving co-purchases.\n",
    "\n"
   ]
  }
 ],
 "metadata": {
  "kernelspec": {
   "display_name": "Python 3 (ipykernel)",
   "language": "python",
   "name": "python3"
  },
  "language_info": {
   "codemirror_mode": {
    "name": "ipython",
    "version": 3
   },
   "file_extension": ".py",
   "mimetype": "text/x-python",
   "name": "python",
   "nbconvert_exporter": "python",
   "pygments_lexer": "ipython3",
   "version": "3.11.7"
  }
 },
 "nbformat": 4,
 "nbformat_minor": 5
}
